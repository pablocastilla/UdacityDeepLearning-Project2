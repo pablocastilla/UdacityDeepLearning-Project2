{
 "cells": [
  {
   "cell_type": "markdown",
   "metadata": {
    "collapsed": true,
    "deletable": true,
    "editable": true
   },
   "source": [
    "# Language Translation\n",
    "In this project, you’re going to take a peek into the realm of neural network machine translation.  You’ll be training a sequence to sequence model on a dataset of English and French sentences that can translate new sentences from English to French.\n",
    "## Get the Data\n",
    "Since translating the whole language of English to French will take lots of time to train, we have provided you with a small portion of the English corpus."
   ]
  },
  {
   "cell_type": "code",
   "execution_count": 1,
   "metadata": {
    "collapsed": false,
    "deletable": true,
    "editable": true
   },
   "outputs": [],
   "source": [
    "\"\"\"\n",
    "DON'T MODIFY ANYTHING IN THIS CELL\n",
    "\"\"\"\n",
    "import helper\n",
    "import problem_unittests as tests\n",
    "\n",
    "source_path = 'data/small_vocab_en'\n",
    "target_path = 'data/small_vocab_fr'\n",
    "source_text = helper.load_data(source_path)\n",
    "target_text = helper.load_data(target_path)"
   ]
  },
  {
   "cell_type": "markdown",
   "metadata": {
    "deletable": true,
    "editable": true
   },
   "source": [
    "## Explore the Data\n",
    "Play around with view_sentence_range to view different parts of the data."
   ]
  },
  {
   "cell_type": "code",
   "execution_count": 2,
   "metadata": {
    "collapsed": false,
    "deletable": true,
    "editable": true
   },
   "outputs": [
    {
     "name": "stdout",
     "output_type": "stream",
     "text": [
      "Dataset Stats\n",
      "Roughly the number of unique words: 227\n",
      "Number of sentences: 137861\n",
      "Average number of words in a sentence: 13.225277634719028\n",
      "\n",
      "English sentences 0 to 10:\n",
      "new jersey is sometimes quiet during autumn , and it is snowy in april .\n",
      "the united states is usually chilly during july , and it is usually freezing in november .\n",
      "california is usually quiet during march , and it is usually hot in june .\n",
      "the united states is sometimes mild during june , and it is cold in september .\n",
      "your least liked fruit is the grape , but my least liked is the apple .\n",
      "his favorite fruit is the orange , but my favorite is the grape .\n",
      "paris is relaxing during december , but it is usually chilly in july .\n",
      "new jersey is busy during spring , and it is never hot in march .\n",
      "our least liked fruit is the lemon , but my least liked is the grape .\n",
      "the united states is sometimes busy during january , and it is sometimes warm in november .\n",
      "\n",
      "French sentences 0 to 10:\n",
      "new jersey est parfois calme pendant l' automne , et il est neigeux en avril .\n",
      "les états-unis est généralement froid en juillet , et il gèle habituellement en novembre .\n",
      "california est généralement calme en mars , et il est généralement chaud en juin .\n",
      "les états-unis est parfois légère en juin , et il fait froid en septembre .\n",
      "votre moins aimé fruit est le raisin , mais mon moins aimé est la pomme .\n",
      "son fruit préféré est l'orange , mais mon préféré est le raisin .\n",
      "paris est relaxant en décembre , mais il est généralement froid en juillet .\n",
      "new jersey est occupé au printemps , et il est jamais chaude en mars .\n",
      "notre fruit est moins aimé le citron , mais mon moins aimé est le raisin .\n",
      "les états-unis est parfois occupé en janvier , et il est parfois chaud en novembre .\n"
     ]
    }
   ],
   "source": [
    "view_sentence_range = (0, 10)\n",
    "\n",
    "\"\"\"\n",
    "DON'T MODIFY ANYTHING IN THIS CELL\n",
    "\"\"\"\n",
    "import numpy as np\n",
    "\n",
    "print('Dataset Stats')\n",
    "print('Roughly the number of unique words: {}'.format(len({word: None for word in source_text.split()})))\n",
    "\n",
    "sentences = source_text.split('\\n')\n",
    "word_counts = [len(sentence.split()) for sentence in sentences]\n",
    "print('Number of sentences: {}'.format(len(sentences)))\n",
    "print('Average number of words in a sentence: {}'.format(np.average(word_counts)))\n",
    "\n",
    "print()\n",
    "print('English sentences {} to {}:'.format(*view_sentence_range))\n",
    "print('\\n'.join(source_text.split('\\n')[view_sentence_range[0]:view_sentence_range[1]]))\n",
    "print()\n",
    "print('French sentences {} to {}:'.format(*view_sentence_range))\n",
    "print('\\n'.join(target_text.split('\\n')[view_sentence_range[0]:view_sentence_range[1]]))"
   ]
  },
  {
   "cell_type": "markdown",
   "metadata": {
    "deletable": true,
    "editable": true
   },
   "source": [
    "## Implement Preprocessing Function\n",
    "### Text to Word Ids\n",
    "As you did with other RNNs, you must turn the text into a number so the computer can understand it. In the function `text_to_ids()`, you'll turn `source_text` and `target_text` from words to ids.  However, you need to add the `<EOS>` word id at the end of each sentence from `target_text`.  This will help the neural network predict when the sentence should end.\n",
    "\n",
    "You can get the `<EOS>` word id by doing:\n",
    "```python\n",
    "target_vocab_to_int['<EOS>']\n",
    "```\n",
    "You can get other word ids using `source_vocab_to_int` and `target_vocab_to_int`."
   ]
  },
  {
   "cell_type": "code",
   "execution_count": 3,
   "metadata": {
    "collapsed": false,
    "deletable": true,
    "editable": true
   },
   "outputs": [
    {
     "name": "stdout",
     "output_type": "stream",
     "text": [
      "Tests Passed\n"
     ]
    }
   ],
   "source": [
    "def text_to_ids(source_text, target_text, source_vocab_to_int, target_vocab_to_int):\n",
    "    \"\"\"\n",
    "    Convert source and target text to proper word ids\n",
    "    :param source_text: String that contains all the source text.\n",
    "    :param target_text: String that contains all the target text.\n",
    "    :param source_vocab_to_int: Dictionary to go from the source words to an id\n",
    "    :param target_vocab_to_int: Dictionary to go from the target words to an id\n",
    "    :return: A tuple of lists (source_id_text, target_id_text)\n",
    "    \"\"\"\n",
    "    # TODO: Implement Function    \n",
    "    \n",
    "            \n",
    "    source_to_int = [[source_vocab_to_int[word] for word in sentence.split()] for sentence in source_text.split('\\n') ]\n",
    "    target_to_int = [[target_vocab_to_int[word] for word in sentence.split()] for sentence in target_text.split('\\n')] \n",
    "    \n",
    "        \n",
    "    for i in range(len(target_to_int)):        \n",
    "        target_to_int[i].append(target_vocab_to_int['<EOS>'])\n",
    "\n",
    "           \n",
    "    return source_to_int, target_to_int\n",
    "\n",
    "\"\"\"\n",
    "DON'T MODIFY ANYTHING IN THIS CELL THAT IS BELOW THIS LINE\n",
    "\"\"\"\n",
    "tests.test_text_to_ids(text_to_ids)"
   ]
  },
  {
   "cell_type": "markdown",
   "metadata": {
    "deletable": true,
    "editable": true
   },
   "source": [
    "### Preprocess all the data and save it\n",
    "Running the code cell below will preprocess all the data and save it to file."
   ]
  },
  {
   "cell_type": "code",
   "execution_count": 4,
   "metadata": {
    "collapsed": false,
    "deletable": true,
    "editable": true
   },
   "outputs": [],
   "source": [
    "\"\"\"\n",
    "DON'T MODIFY ANYTHING IN THIS CELL\n",
    "\"\"\"\n",
    "helper.preprocess_and_save_data(source_path, target_path, text_to_ids)"
   ]
  },
  {
   "cell_type": "markdown",
   "metadata": {
    "deletable": true,
    "editable": true
   },
   "source": [
    "# Check Point\n",
    "This is your first checkpoint. If you ever decide to come back to this notebook or have to restart the notebook, you can start from here. The preprocessed data has been saved to disk."
   ]
  },
  {
   "cell_type": "code",
   "execution_count": 5,
   "metadata": {
    "collapsed": false,
    "deletable": true,
    "editable": true
   },
   "outputs": [],
   "source": [
    "\"\"\"\n",
    "DON'T MODIFY ANYTHING IN THIS CELL\n",
    "\"\"\"\n",
    "import numpy as np\n",
    "import helper\n",
    "\n",
    "(source_int_text, target_int_text), (source_vocab_to_int, target_vocab_to_int), _ = helper.load_preprocess()"
   ]
  },
  {
   "cell_type": "markdown",
   "metadata": {
    "deletable": true,
    "editable": true
   },
   "source": [
    "### Check the Version of TensorFlow and Access to GPU\n",
    "This will check to make sure you have the correct version of TensorFlow and access to a GPU"
   ]
  },
  {
   "cell_type": "code",
   "execution_count": 6,
   "metadata": {
    "collapsed": false,
    "deletable": true,
    "editable": true
   },
   "outputs": [
    {
     "name": "stdout",
     "output_type": "stream",
     "text": [
      "TensorFlow Version: 1.0.1\n"
     ]
    },
    {
     "name": "stderr",
     "output_type": "stream",
     "text": [
      "C:\\ProgramData\\Anaconda3\\envs\\tensorflow\\lib\\site-packages\\ipykernel\\__main__.py:14: UserWarning: No GPU found. Please use a GPU to train your neural network.\n"
     ]
    }
   ],
   "source": [
    "\"\"\"\n",
    "DON'T MODIFY ANYTHING IN THIS CELL\n",
    "\"\"\"\n",
    "from distutils.version import LooseVersion\n",
    "import warnings\n",
    "import tensorflow as tf\n",
    "\n",
    "# Check TensorFlow Version\n",
    "assert LooseVersion(tf.__version__) >= LooseVersion('1.0'), 'Please use TensorFlow version 1.0 or newer'\n",
    "print('TensorFlow Version: {}'.format(tf.__version__))\n",
    "\n",
    "# Check for a GPU\n",
    "if not tf.test.gpu_device_name():\n",
    "    warnings.warn('No GPU found. Please use a GPU to train your neural network.')\n",
    "else:\n",
    "    print('Default GPU Device: {}'.format(tf.test.gpu_device_name()))"
   ]
  },
  {
   "cell_type": "markdown",
   "metadata": {
    "deletable": true,
    "editable": true
   },
   "source": [
    "## Build the Neural Network\n",
    "You'll build the components necessary to build a Sequence-to-Sequence model by implementing the following functions below:\n",
    "- `model_inputs`\n",
    "- `process_decoding_input`\n",
    "- `encoding_layer`\n",
    "- `decoding_layer_train`\n",
    "- `decoding_layer_infer`\n",
    "- `decoding_layer`\n",
    "- `seq2seq_model`\n",
    "\n",
    "### Input\n",
    "Implement the `model_inputs()` function to create TF Placeholders for the Neural Network. It should create the following placeholders:\n",
    "\n",
    "- Input text placeholder named \"input\" using the TF Placeholder name parameter with rank 2.\n",
    "- Targets placeholder with rank 2.\n",
    "- Learning rate placeholder with rank 0.\n",
    "- Keep probability placeholder named \"keep_prob\" using the TF Placeholder name parameter with rank 0.\n",
    "\n",
    "Return the placeholders in the following the tuple (Input, Targets, Learing Rate, Keep Probability)"
   ]
  },
  {
   "cell_type": "code",
   "execution_count": 7,
   "metadata": {
    "collapsed": false,
    "deletable": true,
    "editable": true
   },
   "outputs": [
    {
     "name": "stdout",
     "output_type": "stream",
     "text": [
      "Tests Passed\n"
     ]
    }
   ],
   "source": [
    "def model_inputs():\n",
    "    \"\"\"\n",
    "    Create TF Placeholders for input, targets, and learning rate.\n",
    "    :return: Tuple (input, targets, learning rate, keep probability)\n",
    "    \"\"\"\n",
    "    # TODO: Implement Function\n",
    "    return  tf.placeholder(tf.int32, [None, None],name=\"input\"), tf.placeholder(tf.int32, [None, None]), tf.placeholder(tf.float32), tf.placeholder(tf.float32,name=\"keep_prob\")\n",
    "\n",
    "\"\"\"\n",
    "DON'T MODIFY ANYTHING IN THIS CELL THAT IS BELOW THIS LINE\n",
    "\"\"\"\n",
    "tests.test_model_inputs(model_inputs)"
   ]
  },
  {
   "cell_type": "markdown",
   "metadata": {
    "deletable": true,
    "editable": true
   },
   "source": [
    "### Process Decoding Input\n",
    "Implement `process_decoding_input` using TensorFlow to remove the last word id from each batch in `target_data` and concat the GO ID to the begining of each batch."
   ]
  },
  {
   "cell_type": "code",
   "execution_count": 8,
   "metadata": {
    "collapsed": false,
    "deletable": true,
    "editable": true
   },
   "outputs": [
    {
     "name": "stdout",
     "output_type": "stream",
     "text": [
      "Tests Passed\n"
     ]
    }
   ],
   "source": [
    "def process_decoding_input(target_data, target_vocab_to_int, batch_size):\n",
    "    \"\"\"\n",
    "    Preprocess target data for dencoding\n",
    "    :param target_data: Target Placehoder\n",
    "    :param target_vocab_to_int: Dictionary to go from the target words to an id\n",
    "    :param batch_size: Batch Size\n",
    "    :return: Preprocessed target data\n",
    "    \"\"\"\n",
    "    # TODO: Implement Function\n",
    "    ending = tf.strided_slice(target_data, [0, 0], [batch_size, -1], [1, 1])\n",
    "    dec_input = tf.concat([tf.fill([batch_size, 1], target_vocab_to_int['<GO>']), ending], 1)\n",
    "    return dec_input\n",
    "\n",
    "\"\"\"\n",
    "DON'T MODIFY ANYTHING IN THIS CELL THAT IS BELOW THIS LINE\n",
    "\"\"\"\n",
    "tests.test_process_decoding_input(process_decoding_input)"
   ]
  },
  {
   "cell_type": "markdown",
   "metadata": {
    "deletable": true,
    "editable": true
   },
   "source": [
    "### Encoding\n",
    "Implement `encoding_layer()` to create a Encoder RNN layer using [`tf.nn.dynamic_rnn()`](https://www.tensorflow.org/api_docs/python/tf/nn/dynamic_rnn)."
   ]
  },
  {
   "cell_type": "code",
   "execution_count": 9,
   "metadata": {
    "collapsed": false,
    "deletable": true,
    "editable": true
   },
   "outputs": [
    {
     "name": "stdout",
     "output_type": "stream",
     "text": [
      "Tests Passed\n"
     ]
    }
   ],
   "source": [
    "def encoding_layer(rnn_inputs, rnn_size, num_layers, keep_prob):\n",
    "    \"\"\"\n",
    "    Create encoding layer\n",
    "    :param rnn_inputs: Inputs for the RNN\n",
    "    :param rnn_size: RNN Size\n",
    "    :param num_layers: Number of layers\n",
    "    :param keep_prob: Dropout keep probability\n",
    "    :return: RNN state\n",
    "    \"\"\"\n",
    "   \n",
    "    # Encoder\n",
    "    enc_cell = tf.contrib.rnn.MultiRNNCell([tf.contrib.rnn.BasicLSTMCell(rnn_size)] * num_layers)\n",
    "    _, enc_state = tf.nn.dynamic_rnn(tf.contrib.rnn.DropoutWrapper(enc_cell,keep_prob), rnn_inputs, dtype=tf.float32)\n",
    "    return enc_state\n",
    "\n",
    "\"\"\"\n",
    "DON'T MODIFY ANYTHING IN THIS CELL THAT IS BELOW THIS LINE\n",
    "\"\"\"\n",
    "tests.test_encoding_layer(encoding_layer)"
   ]
  },
  {
   "cell_type": "markdown",
   "metadata": {
    "deletable": true,
    "editable": true
   },
   "source": [
    "### Decoding - Training\n",
    "Create training logits using [`tf.contrib.seq2seq.simple_decoder_fn_train()`](https://www.tensorflow.org/api_docs/python/tf/contrib/seq2seq/simple_decoder_fn_train) and [`tf.contrib.seq2seq.dynamic_rnn_decoder()`](https://www.tensorflow.org/api_docs/python/tf/contrib/seq2seq/dynamic_rnn_decoder).  Apply the `output_fn` to the [`tf.contrib.seq2seq.dynamic_rnn_decoder()`](https://www.tensorflow.org/api_docs/python/tf/contrib/seq2seq/dynamic_rnn_decoder) outputs."
   ]
  },
  {
   "cell_type": "code",
   "execution_count": 10,
   "metadata": {
    "collapsed": false,
    "deletable": true,
    "editable": true
   },
   "outputs": [
    {
     "name": "stdout",
     "output_type": "stream",
     "text": [
      "Tests Passed\n"
     ]
    }
   ],
   "source": [
    "def decoding_layer_train(encoder_state, dec_cell, dec_embed_input, sequence_length, decoding_scope,\n",
    "                         output_fn, keep_prob):\n",
    "    \"\"\"\n",
    "    Create a decoding layer for training\n",
    "    :param encoder_state: Encoder State\n",
    "    :param dec_cell: Decoder RNN Cell\n",
    "    :param dec_embed_input: Decoder embedded input\n",
    "    :param sequence_length: Sequence Length\n",
    "    :param decoding_scope: TenorFlow Variable Scope for decoding\n",
    "    :param output_fn: Function to apply the output layer\n",
    "    :param keep_prob: Dropout keep probability\n",
    "    :return: Train Logits\n",
    "    \"\"\"\n",
    "    # TODO: Implement Function\n",
    "    \n",
    "    train_decoder_fn = tf.contrib.seq2seq.simple_decoder_fn_train(encoder_state)\n",
    "    train_pred, _, _ = tf.contrib.seq2seq.dynamic_rnn_decoder(\n",
    "        dec_cell, train_decoder_fn, dec_embed_input, sequence_length, scope=decoding_scope)\n",
    "    \n",
    "    return output_fn(tf.nn.dropout(train_pred,keep_prob))\n",
    "\n",
    "\n",
    "\"\"\"\n",
    "DON'T MODIFY ANYTHING IN THIS CELL THAT IS BELOW THIS LINE\n",
    "\"\"\"\n",
    "tests.test_decoding_layer_train(decoding_layer_train)"
   ]
  },
  {
   "cell_type": "markdown",
   "metadata": {
    "deletable": true,
    "editable": true
   },
   "source": [
    "### Decoding - Inference\n",
    "Create inference logits using [`tf.contrib.seq2seq.simple_decoder_fn_inference()`](https://www.tensorflow.org/api_docs/python/tf/contrib/seq2seq/simple_decoder_fn_inference) and [`tf.contrib.seq2seq.dynamic_rnn_decoder()`](https://www.tensorflow.org/api_docs/python/tf/contrib/seq2seq/dynamic_rnn_decoder). "
   ]
  },
  {
   "cell_type": "code",
   "execution_count": 11,
   "metadata": {
    "collapsed": false,
    "deletable": true,
    "editable": true
   },
   "outputs": [
    {
     "name": "stdout",
     "output_type": "stream",
     "text": [
      "Tests Passed\n"
     ]
    }
   ],
   "source": [
    "def decoding_layer_infer(encoder_state, dec_cell, dec_embeddings, start_of_sequence_id, end_of_sequence_id,\n",
    "                         maximum_length, vocab_size, decoding_scope, output_fn, keep_prob):\n",
    "    \"\"\"\n",
    "    Create a decoding layer for inference\n",
    "    :param encoder_state: Encoder state\n",
    "    :param dec_cell: Decoder RNN Cell\n",
    "    :param dec_embeddings: Decoder embeddings\n",
    "    :param start_of_sequence_id: GO ID\n",
    "    :param end_of_sequence_id: EOS Id\n",
    "    :param maximum_length: Maximum length of \n",
    "    :param vocab_size: Size of vocabulary\n",
    "    :param decoding_scope: TensorFlow Variable Scope for decoding\n",
    "    :param output_fn: Function to apply the output layer\n",
    "    :param keep_prob: Dropout keep probability\n",
    "    :return: Inference Logits\n",
    "    \"\"\"\n",
    "    # TODO: Implement Function\n",
    "    infer_decoder_fn = tf.contrib.seq2seq.simple_decoder_fn_inference(\n",
    "        output_fn, encoder_state, dec_embeddings, start_of_sequence_id, end_of_sequence_id, \n",
    "        maximum_length, vocab_size)\n",
    "    \n",
    "    inference_logits, _, _ = tf.contrib.seq2seq.dynamic_rnn_decoder(dec_cell, infer_decoder_fn, scope=decoding_scope)\n",
    "    \n",
    "    return  tf.nn.dropout(inference_logits,keep_prob)\n",
    "\n",
    "\n",
    "\"\"\"\n",
    "DON'T MODIFY ANYTHING IN THIS CELL THAT IS BELOW THIS LINE\n",
    "\"\"\"\n",
    "tests.test_decoding_layer_infer(decoding_layer_infer)"
   ]
  },
  {
   "cell_type": "markdown",
   "metadata": {
    "deletable": true,
    "editable": true
   },
   "source": [
    "### Build the Decoding Layer\n",
    "Implement `decoding_layer()` to create a Decoder RNN layer.\n",
    "\n",
    "- Create RNN cell for decoding using `rnn_size` and `num_layers`.\n",
    "- Create the output fuction using [`lambda`](https://docs.python.org/3/tutorial/controlflow.html#lambda-expressions) to transform it's input, logits, to class logits.\n",
    "- Use the your `decoding_layer_train(encoder_state, dec_cell, dec_embed_input, sequence_length, decoding_scope, output_fn, keep_prob)` function to get the training logits.\n",
    "- Use your `decoding_layer_infer(encoder_state, dec_cell, dec_embeddings, start_of_sequence_id, end_of_sequence_id, maximum_length, vocab_size, decoding_scope, output_fn, keep_prob)` function to get the inference logits.\n",
    "\n",
    "Note: You'll need to use [tf.variable_scope](https://www.tensorflow.org/api_docs/python/tf/variable_scope) to share variables between training and inference."
   ]
  },
  {
   "cell_type": "code",
   "execution_count": 12,
   "metadata": {
    "collapsed": false,
    "deletable": true,
    "editable": true
   },
   "outputs": [
    {
     "name": "stdout",
     "output_type": "stream",
     "text": [
      "Tests Passed\n"
     ]
    }
   ],
   "source": [
    "def decoding_layer(dec_embed_input, dec_embeddings, encoder_state, vocab_size, sequence_length, rnn_size,\n",
    "                   num_layers, target_vocab_to_int, keep_prob):\n",
    "    \"\"\"\n",
    "    Create decoding layer\n",
    "    :param dec_embed_input: Decoder embedded input\n",
    "    :param dec_embeddings: Decoder embeddings\n",
    "    :param encoder_state: The encoded state\n",
    "    :param vocab_size: Size of vocabulary\n",
    "    :param sequence_length: Sequence Length\n",
    "    :param rnn_size: RNN Size\n",
    "    :param num_layers: Number of layers\n",
    "    :param target_vocab_to_int: Dictionary to go from the target words to an id\n",
    "    :param keep_prob: Dropout keep probability\n",
    "    :return: Tuple of (Training Logits, Inference Logits)\n",
    "    \"\"\"    \n",
    "        \n",
    "        \n",
    "    # TODO: Implement Function\n",
    "    with tf.variable_scope(\"decoding\", reuse=None) as decoding_scope:          \n",
    "        output_fn = lambda x: tf.contrib.layers.fully_connected(x, vocab_size, None, scope=decoding_scope)\n",
    "        dec_cell = tf.contrib.rnn.MultiRNNCell([tf.contrib.rnn.BasicLSTMCell(rnn_size)] * num_layers)  \n",
    "        training_logits = decoding_layer_train(encoder_state, dec_cell, dec_embed_input, sequence_length, decoding_scope, output_fn, keep_prob)\n",
    "        \n",
    "    with tf.variable_scope(\"decoding\", reuse=True) as decoding_scope:\n",
    "        inference_logits = decoding_layer_infer(encoder_state, dec_cell, dec_embeddings, target_vocab_to_int['<GO>'], target_vocab_to_int['<EOS>'], sequence_length-1, vocab_size, decoding_scope, output_fn, keep_prob)\n",
    "    \n",
    "    return training_logits, inference_logits\n",
    "\n",
    "\n",
    "\"\"\"\n",
    "DON'T MODIFY ANYTHING IN THIS CELL THAT IS BELOW THIS LINE\n",
    "\"\"\"\n",
    "tests.test_decoding_layer(decoding_layer)"
   ]
  },
  {
   "cell_type": "markdown",
   "metadata": {
    "deletable": true,
    "editable": true
   },
   "source": [
    "### Build the Neural Network\n",
    "Apply the functions you implemented above to:\n",
    "\n",
    "- Apply embedding to the input data for the encoder.\n",
    "- Encode the input using your `encoding_layer(rnn_inputs, rnn_size, num_layers, keep_prob)`.\n",
    "- Process target data using your `process_decoding_input(target_data, target_vocab_to_int, batch_size)` function.\n",
    "- Apply embedding to the target data for the decoder.\n",
    "- Decode the encoded input using your `decoding_layer(dec_embed_input, dec_embeddings, encoder_state, vocab_size, sequence_length, rnn_size, num_layers, target_vocab_to_int, keep_prob)`."
   ]
  },
  {
   "cell_type": "code",
   "execution_count": 13,
   "metadata": {
    "collapsed": false,
    "deletable": true,
    "editable": true
   },
   "outputs": [
    {
     "name": "stdout",
     "output_type": "stream",
     "text": [
      "Tests Passed\n"
     ]
    }
   ],
   "source": [
    "def seq2seq_model(input_data, target_data, keep_prob, batch_size, sequence_length, source_vocab_size, target_vocab_size,\n",
    "                  enc_embedding_size, dec_embedding_size, rnn_size, num_layers, target_vocab_to_int):\n",
    "    \"\"\"\n",
    "    Build the Sequence-to-Sequence part of the neural network\n",
    "    :param input_data: Input placeholder\n",
    "    :param target_data: Target placeholder\n",
    "    :param keep_prob: Dropout keep probability placeholder\n",
    "    :param batch_size: Batch Size\n",
    "    :param sequence_length: Sequence Length\n",
    "    :param source_vocab_size: Source vocabulary size\n",
    "    :param target_vocab_size: Target vocabulary size\n",
    "    :param enc_embedding_size: Decoder embedding size\n",
    "    :param dec_embedding_size: Encoder embedding size\n",
    "    :param rnn_size: RNN Size\n",
    "    :param num_layers: Number of layers\n",
    "    :param target_vocab_to_int: Dictionary to go from the target words to an id\n",
    "    :return: Tuple of (Training Logits, Inference Logits)\n",
    "    \"\"\"\n",
    "    # TODO: Implement Function\n",
    "    \n",
    "    \n",
    "    enc_embed_input = tf.contrib.layers.embed_sequence(input_data, source_vocab_size, enc_embedding_size)\n",
    "    \n",
    "    encoder_state = encoding_layer(enc_embed_input, rnn_size, num_layers, keep_prob)\n",
    "    \n",
    "    dec_input=process_decoding_input(target_data, target_vocab_to_int, batch_size)\n",
    "    \n",
    "    \n",
    "    enc_embed_target = tf.contrib.layers.embed_sequence(dec_input, target_vocab_size, dec_embedding_size)\n",
    "    dec_embeddings = tf.Variable(tf.random_uniform([target_vocab_size, dec_embedding_size]))\n",
    "    \n",
    "    \n",
    "    training_logits, inference_logits = decoding_layer(enc_embed_target, dec_embeddings, encoder_state, target_vocab_size, sequence_length, rnn_size, num_layers, target_vocab_to_int, keep_prob)\n",
    "    \n",
    "    return training_logits, inference_logits \n",
    "\n",
    "\"\"\"\n",
    "DON'T MODIFY ANYTHING IN THIS CELL THAT IS BELOW THIS LINE\n",
    "\"\"\"\n",
    "tests.test_seq2seq_model(seq2seq_model)"
   ]
  },
  {
   "cell_type": "markdown",
   "metadata": {
    "deletable": true,
    "editable": true
   },
   "source": [
    "## Neural Network Training\n",
    "### Hyperparameters\n",
    "Tune the following parameters:\n",
    "\n",
    "- Set `epochs` to the number of epochs.\n",
    "- Set `batch_size` to the batch size.\n",
    "- Set `rnn_size` to the size of the RNNs.\n",
    "- Set `num_layers` to the number of layers.\n",
    "- Set `encoding_embedding_size` to the size of the embedding for the encoder.\n",
    "- Set `decoding_embedding_size` to the size of the embedding for the decoder.\n",
    "- Set `learning_rate` to the learning rate.\n",
    "- Set `keep_probability` to the Dropout keep probability"
   ]
  },
  {
   "cell_type": "markdown",
   "metadata": {
    "deletable": true,
    "editable": true
   },
   "source": [
    "## Finding best hyperparameters"
   ]
  },
  {
   "cell_type": "markdown",
   "metadata": {
    "collapsed": false,
    "deletable": true,
    "editable": true
   },
   "source": [
    "import time\n",
    "\n",
    "def get_accuracy(target, logits):\n",
    "    \"\"\"\n",
    "    Calculate accuracy\n",
    "    \"\"\"\n",
    "    max_seq = max(target.shape[1], logits.shape[1])\n",
    "    if max_seq - target.shape[1]:\n",
    "        target = np.pad(\n",
    "            target_batch,\n",
    "            [(0,0),(0,max_seq - target_batch.shape[1]), (0,0)],\n",
    "            'constant')\n",
    "    if max_seq - batch_train_logits.shape[1]:\n",
    "        logits = np.pad(\n",
    "            logits,\n",
    "            [(0,0),(0,max_seq - logits.shape[1]), (0,0)],\n",
    "            'constant')\n",
    "\n",
    "    return np.mean(np.equal(target, np.argmax(logits, 2)))\n",
    "\n",
    "def get_hyperparameters():\n",
    "    for epoch in [10,15]:\n",
    "        for batch_size in [100,200]:\n",
    "            for rnn_size in [256,512]:\n",
    "                for num_layers in [1,3]:\n",
    "                    for encoding_embedding_size in [256,512]:\n",
    "                        for decoding_embedding_size in [256,512]:\n",
    "                            for learning_rate in [0.1,0.01,0.001]:\n",
    "                                for keep_probability in [0.5]:\n",
    "                                    yield epoch,batch_size,rnn_size,num_layers,encoding_embedding_size,decoding_embedding_size,learning_rate,keep_probability\n",
    "    \n",
    "\n",
    "for epochs,batch_size,rnn_size,num_layers,encoding_embedding_size,decoding_embedding_size,learning_rate,keep_probability in get_hyperparameters():\n",
    "    \n",
    "    tf.reset_default_graph()\n",
    "    save_path = 'checkpoints/dev'\n",
    "    (source_int_text, target_int_text), (source_vocab_to_int, target_vocab_to_int), _ = helper.load_preprocess()\n",
    "    max_target_sentence_length = max([len(sentence) for sentence in source_int_text])\n",
    "\n",
    "    train_graph = tf.Graph()\n",
    "    with train_graph.as_default():\n",
    "        input_data, targets, lr, keep_prob = model_inputs()\n",
    "        sequence_length = tf.placeholder_with_default(max_target_sentence_length, None, name='sequence_length')\n",
    "        input_shape = tf.shape(input_data)\n",
    "    \n",
    "        train_logits, inference_logits = seq2seq_model(\n",
    "            tf.reverse(input_data, [-1]), targets, keep_prob, batch_size, sequence_length, len(source_vocab_to_int), len(target_vocab_to_int),\n",
    "            encoding_embedding_size, decoding_embedding_size, rnn_size, num_layers, target_vocab_to_int)\n",
    "\n",
    "        tf.identity(inference_logits, 'logits')\n",
    "        with tf.name_scope(\"optimization\"):\n",
    "            # Loss function\n",
    "            cost = tf.contrib.seq2seq.sequence_loss(\n",
    "                train_logits,\n",
    "                targets,\n",
    "                tf.ones([input_shape[0], sequence_length]))\n",
    "\n",
    "            \n",
    "            \n",
    "            # Optimizer\n",
    "            optimizer = tf.train.AdamOptimizer(lr)\n",
    "            \n",
    "\n",
    "            # Gradient Clipping\n",
    "            gradients = optimizer.compute_gradients(cost)\n",
    "            capped_gradients = [(tf.clip_by_value(grad, -1., 1.), var) for grad, var in gradients if grad is not None]\n",
    "            train_op = optimizer.apply_gradients(capped_gradients)\n",
    "            tf.summary.scalar('cost', cost)\n",
    "            merged = tf.summary.merge_all()\n",
    "\n",
    "\n",
    "    train_source = source_int_text[batch_size:]\n",
    "    train_target = target_int_text[batch_size:]\n",
    "\n",
    "    valid_source = helper.pad_sentence_batch(source_int_text[:batch_size])\n",
    "    valid_target = helper.pad_sentence_batch(target_int_text[:batch_size])\n",
    "\n",
    "    with tf.Session(graph=train_graph) as sess:\n",
    "        sess.run(tf.global_variables_initializer())\n",
    "\n",
    "        log_string = './logs/ne={},bs={},rnns={},nl={},ees={},des={},lr={},kp={}'.format(epochs,batch_size,rnn_size,num_layers,encoding_embedding_size,decoding_embedding_size,learning_rate,keep_probability)\n",
    "        train_writer = tf.summary.FileWriter(log_string, sess.graph)\n",
    "        \n",
    "        for epoch_i in range(epochs):\n",
    "            for batch_i, (source_batch, target_batch) in enumerate(\n",
    "                    helper.batch_data(train_source, train_target, batch_size)):\n",
    "                start_time = time.time()\n",
    "                \n",
    "                summary,_, loss = sess.run(\n",
    "                    [merged,train_op, cost],\n",
    "                    {input_data: source_batch,\n",
    "                     targets: target_batch,\n",
    "                     lr: learning_rate,\n",
    "                     sequence_length: target_batch.shape[1],\n",
    "                     keep_prob: keep_probability})\n",
    "            \n",
    "                batch_train_logits = sess.run(\n",
    "                    inference_logits,\n",
    "                    {input_data: source_batch, keep_prob: 1.0})\n",
    "                batch_valid_logits = sess.run(\n",
    "                    inference_logits,\n",
    "                    {input_data: valid_source, keep_prob: 1.0})\n",
    "                \n",
    "                train_acc = get_accuracy(target_batch, batch_train_logits)\n",
    "                valid_acc = get_accuracy(np.array(valid_target), batch_valid_logits)\n",
    "                end_time = time.time()\n",
    "                print('Epoch {:>3} Batch {:>4}/{} - Train Accuracy: {:>6.3f}, Validation Accuracy: {:>6.3f}, Loss: {:>6.3f}'\n",
    "                  .format(epoch_i, batch_i, len(source_int_text) // batch_size, train_acc, valid_acc, loss))\n",
    "                \n",
    "                train_writer.add_summary(summary, epoch_i * batch_size + batch_i)"
   ]
  },
  {
   "cell_type": "markdown",
   "metadata": {
    "deletable": true,
    "editable": true
   },
   "source": [
    "## Training"
   ]
  },
  {
   "cell_type": "code",
   "execution_count": 14,
   "metadata": {
    "collapsed": true,
    "deletable": true,
    "editable": true
   },
   "outputs": [],
   "source": [
    "# Number of Epochs\n",
    "epochs = 10\n",
    "# Batch Size\n",
    "batch_size = 256\n",
    "# RNN Size\n",
    "rnn_size = 256\n",
    "# Number of Layers\n",
    "num_layers = 1\n",
    "# Embedding Size\n",
    "encoding_embedding_size = 256\n",
    "decoding_embedding_size = 256\n",
    "# Learning Rate\n",
    "learning_rate = 0.001\n",
    "# Dropout Keep Probability\n",
    "keep_probability = 0.8"
   ]
  },
  {
   "cell_type": "markdown",
   "metadata": {
    "deletable": true,
    "editable": true
   },
   "source": [
    "### Build the Graph\n",
    "Build the graph using the neural network you implemented."
   ]
  },
  {
   "cell_type": "code",
   "execution_count": null,
   "metadata": {
    "collapsed": false,
    "deletable": true,
    "editable": true
   },
   "outputs": [],
   "source": [
    "\"\"\"\n",
    "DON'T MODIFY ANYTHING IN THIS CELL\n",
    "\"\"\"\n",
    "save_path = 'checkpoints/dev'\n",
    "(source_int_text, target_int_text), (source_vocab_to_int, target_vocab_to_int), _ = helper.load_preprocess()\n",
    "max_target_sentence_length = max([len(sentence) for sentence in source_int_text])\n",
    "\n",
    "train_graph = tf.Graph()\n",
    "with train_graph.as_default():\n",
    "    input_data, targets, lr, keep_prob = model_inputs()\n",
    "    sequence_length = tf.placeholder_with_default(max_target_sentence_length, None, name='sequence_length')\n",
    "    input_shape = tf.shape(input_data)\n",
    "    \n",
    "    train_logits, inference_logits = seq2seq_model(\n",
    "        tf.reverse(input_data, [-1]), targets, keep_prob, batch_size, sequence_length, len(source_vocab_to_int), len(target_vocab_to_int),\n",
    "        encoding_embedding_size, decoding_embedding_size, rnn_size, num_layers, target_vocab_to_int)\n",
    "\n",
    "    tf.identity(inference_logits, 'logits')\n",
    "    with tf.name_scope(\"optimization\"):\n",
    "        # Loss function\n",
    "        cost = tf.contrib.seq2seq.sequence_loss(\n",
    "            train_logits,\n",
    "            targets,\n",
    "            tf.ones([input_shape[0], sequence_length]))\n",
    "\n",
    "        # Optimizer\n",
    "        optimizer = tf.train.AdamOptimizer(lr)\n",
    "\n",
    "        # Gradient Clipping\n",
    "        gradients = optimizer.compute_gradients(cost)\n",
    "        capped_gradients = [(tf.clip_by_value(grad, -1., 1.), var) for grad, var in gradients if grad is not None]\n",
    "        train_op = optimizer.apply_gradients(capped_gradients)"
   ]
  },
  {
   "cell_type": "markdown",
   "metadata": {
    "deletable": true,
    "editable": true
   },
   "source": [
    "### Train\n",
    "Train the neural network on the preprocessed data. If you have a hard time getting a good loss, check the forms to see if anyone is having the same problem."
   ]
  },
  {
   "cell_type": "code",
   "execution_count": null,
   "metadata": {
    "collapsed": false,
    "deletable": true,
    "editable": true,
    "scrolled": true
   },
   "outputs": [
    {
     "name": "stdout",
     "output_type": "stream",
     "text": [
      "Epoch   0 Batch    0/538 - Train Accuracy:  0.157, Validation Accuracy:  0.236, Loss:  5.884\n",
      "Epoch   0 Batch    1/538 - Train Accuracy:  0.157, Validation Accuracy:  0.236, Loss:  5.848\n",
      "Epoch   0 Batch    2/538 - Train Accuracy:  0.157, Validation Accuracy:  0.236, Loss:  5.803\n",
      "Epoch   0 Batch    3/538 - Train Accuracy:  0.153, Validation Accuracy:  0.236, Loss:  5.757\n",
      "Epoch   0 Batch    4/538 - Train Accuracy:  0.157, Validation Accuracy:  0.236, Loss:  5.668\n",
      "Epoch   0 Batch    5/538 - Train Accuracy:  0.202, Validation Accuracy:  0.240, Loss:  5.449\n",
      "Epoch   0 Batch    6/538 - Train Accuracy:  0.237, Validation Accuracy:  0.278, Loss:  5.009\n",
      "Epoch   0 Batch    7/538 - Train Accuracy:  0.273, Validation Accuracy:  0.342, Loss:  4.494\n",
      "Epoch   0 Batch    8/538 - Train Accuracy:  0.278, Validation Accuracy:  0.346, Loss:  4.154\n",
      "Epoch   0 Batch    9/538 - Train Accuracy:  0.279, Validation Accuracy:  0.346, Loss:  3.995\n",
      "Epoch   0 Batch   10/538 - Train Accuracy:  0.260, Validation Accuracy:  0.346, Loss:  3.938\n",
      "Epoch   0 Batch   11/538 - Train Accuracy:  0.281, Validation Accuracy:  0.355, Loss:  3.753\n",
      "Epoch   0 Batch   12/538 - Train Accuracy:  0.274, Validation Accuracy:  0.355, Loss:  3.694\n",
      "Epoch   0 Batch   13/538 - Train Accuracy:  0.323, Validation Accuracy:  0.353, Loss:  3.403\n",
      "Epoch   0 Batch   14/538 - Train Accuracy:  0.283, Validation Accuracy:  0.357, Loss:  3.466\n",
      "Epoch   0 Batch   15/538 - Train Accuracy:  0.325, Validation Accuracy:  0.357, Loss:  3.245\n",
      "Epoch   0 Batch   16/538 - Train Accuracy:  0.315, Validation Accuracy:  0.355, Loss:  3.230\n",
      "Epoch   0 Batch   17/538 - Train Accuracy:  0.276, Validation Accuracy:  0.344, Loss:  3.294\n",
      "Epoch   0 Batch   18/538 - Train Accuracy:  0.273, Validation Accuracy:  0.335, Loss:  3.300\n",
      "Epoch   0 Batch   19/538 - Train Accuracy:  0.272, Validation Accuracy:  0.348, Loss:  3.289\n",
      "Epoch   0 Batch   20/538 - Train Accuracy:  0.315, Validation Accuracy:  0.359, Loss:  3.098\n",
      "Epoch   0 Batch   21/538 - Train Accuracy:  0.240, Validation Accuracy:  0.348, Loss:  3.320\n",
      "Epoch   0 Batch   22/538 - Train Accuracy:  0.271, Validation Accuracy:  0.339, Loss:  3.131\n",
      "Epoch   0 Batch   23/538 - Train Accuracy:  0.292, Validation Accuracy:  0.352, Loss:  3.105\n",
      "Epoch   0 Batch   24/538 - Train Accuracy:  0.299, Validation Accuracy:  0.336, Loss:  3.020\n",
      "Epoch   0 Batch   25/538 - Train Accuracy:  0.283, Validation Accuracy:  0.349, Loss:  3.065\n",
      "Epoch   0 Batch   26/538 - Train Accuracy:  0.281, Validation Accuracy:  0.349, Loss:  3.045\n",
      "Epoch   0 Batch   27/538 - Train Accuracy:  0.295, Validation Accuracy:  0.360, Loss:  2.996\n",
      "Epoch   0 Batch   28/538 - Train Accuracy:  0.360, Validation Accuracy:  0.364, Loss:  2.720\n",
      "Epoch   0 Batch   29/538 - Train Accuracy:  0.326, Validation Accuracy:  0.368, Loss:  2.865\n",
      "Epoch   0 Batch   30/538 - Train Accuracy:  0.310, Validation Accuracy:  0.385, Loss:  2.962\n",
      "Epoch   0 Batch   31/538 - Train Accuracy:  0.348, Validation Accuracy:  0.387, Loss:  2.793\n",
      "Epoch   0 Batch   32/538 - Train Accuracy:  0.320, Validation Accuracy:  0.366, Loss:  2.847\n",
      "Epoch   0 Batch   33/538 - Train Accuracy:  0.347, Validation Accuracy:  0.392, Loss:  2.836\n",
      "Epoch   0 Batch   34/538 - Train Accuracy:  0.314, Validation Accuracy:  0.377, Loss:  2.872\n",
      "Epoch   0 Batch   35/538 - Train Accuracy:  0.312, Validation Accuracy:  0.388, Loss:  2.906\n",
      "Epoch   0 Batch   36/538 - Train Accuracy:  0.341, Validation Accuracy:  0.377, Loss:  2.728\n",
      "Epoch   0 Batch   37/538 - Train Accuracy:  0.327, Validation Accuracy:  0.388, Loss:  2.821\n",
      "Epoch   0 Batch   38/538 - Train Accuracy:  0.313, Validation Accuracy:  0.391, Loss:  2.840\n",
      "Epoch   0 Batch   39/538 - Train Accuracy:  0.314, Validation Accuracy:  0.384, Loss:  2.804\n",
      "Epoch   0 Batch   40/538 - Train Accuracy:  0.387, Validation Accuracy:  0.393, Loss:  2.558\n",
      "Epoch   0 Batch   41/538 - Train Accuracy:  0.313, Validation Accuracy:  0.381, Loss:  2.741\n",
      "Epoch   0 Batch   42/538 - Train Accuracy:  0.311, Validation Accuracy:  0.375, Loss:  2.712\n",
      "Epoch   0 Batch   43/538 - Train Accuracy:  0.334, Validation Accuracy:  0.396, Loss:  2.748\n",
      "Epoch   0 Batch   44/538 - Train Accuracy:  0.315, Validation Accuracy:  0.388, Loss:  2.725\n",
      "Epoch   0 Batch   45/538 - Train Accuracy:  0.356, Validation Accuracy:  0.392, Loss:  2.588\n",
      "Epoch   0 Batch   46/538 - Train Accuracy:  0.320, Validation Accuracy:  0.384, Loss:  2.665\n",
      "Epoch   0 Batch   47/538 - Train Accuracy:  0.337, Validation Accuracy:  0.376, Loss:  2.534\n",
      "Epoch   0 Batch   48/538 - Train Accuracy:  0.355, Validation Accuracy:  0.385, Loss:  2.519\n",
      "Epoch   0 Batch   49/538 - Train Accuracy:  0.312, Validation Accuracy:  0.385, Loss:  2.671\n",
      "Epoch   0 Batch   50/538 - Train Accuracy:  0.323, Validation Accuracy:  0.391, Loss:  2.571\n",
      "Epoch   0 Batch   51/538 - Train Accuracy:  0.265, Validation Accuracy:  0.391, Loss:  2.770\n",
      "Epoch   0 Batch   52/538 - Train Accuracy:  0.334, Validation Accuracy:  0.394, Loss:  2.543\n",
      "Epoch   0 Batch   53/538 - Train Accuracy:  0.376, Validation Accuracy:  0.392, Loss:  2.358\n",
      "Epoch   0 Batch   54/538 - Train Accuracy:  0.346, Validation Accuracy:  0.411, Loss:  2.524\n",
      "Epoch   0 Batch   55/538 - Train Accuracy:  0.347, Validation Accuracy:  0.415, Loss:  2.536\n",
      "Epoch   0 Batch   56/538 - Train Accuracy:  0.363, Validation Accuracy:  0.406, Loss:  2.424\n",
      "Epoch   0 Batch   57/538 - Train Accuracy:  0.299, Validation Accuracy:  0.391, Loss:  2.530\n",
      "Epoch   0 Batch   58/538 - Train Accuracy:  0.297, Validation Accuracy:  0.388, Loss:  2.521\n",
      "Epoch   0 Batch   59/538 - Train Accuracy:  0.319, Validation Accuracy:  0.399, Loss:  2.489\n",
      "Epoch   0 Batch   60/538 - Train Accuracy:  0.332, Validation Accuracy:  0.404, Loss:  2.447\n",
      "Epoch   0 Batch   61/538 - Train Accuracy:  0.331, Validation Accuracy:  0.403, Loss:  2.419\n",
      "Epoch   0 Batch   62/538 - Train Accuracy:  0.336, Validation Accuracy:  0.391, Loss:  2.346\n",
      "Epoch   0 Batch   63/538 - Train Accuracy:  0.364, Validation Accuracy:  0.398, Loss:  2.278\n",
      "Epoch   0 Batch   64/538 - Train Accuracy:  0.366, Validation Accuracy:  0.404, Loss:  2.275\n",
      "Epoch   0 Batch   65/538 - Train Accuracy:  0.329, Validation Accuracy:  0.408, Loss:  2.407\n",
      "Epoch   0 Batch   66/538 - Train Accuracy:  0.370, Validation Accuracy:  0.407, Loss:  2.245\n",
      "Epoch   0 Batch   67/538 - Train Accuracy:  0.346, Validation Accuracy:  0.406, Loss:  2.299\n",
      "Epoch   0 Batch   68/538 - Train Accuracy:  0.358, Validation Accuracy:  0.401, Loss:  2.174\n",
      "Epoch   0 Batch   69/538 - Train Accuracy:  0.325, Validation Accuracy:  0.402, Loss:  2.297\n",
      "Epoch   0 Batch   70/538 - Train Accuracy:  0.352, Validation Accuracy:  0.399, Loss:  2.184\n",
      "Epoch   0 Batch   71/538 - Train Accuracy:  0.324, Validation Accuracy:  0.396, Loss:  2.249\n",
      "Epoch   0 Batch   72/538 - Train Accuracy:  0.359, Validation Accuracy:  0.398, Loss:  2.133\n",
      "Epoch   0 Batch   73/538 - Train Accuracy:  0.329, Validation Accuracy:  0.401, Loss:  2.241\n",
      "Epoch   0 Batch   74/538 - Train Accuracy:  0.353, Validation Accuracy:  0.405, Loss:  2.129\n",
      "Epoch   0 Batch   75/538 - Train Accuracy:  0.371, Validation Accuracy:  0.410, Loss:  2.109\n",
      "Epoch   0 Batch   76/538 - Train Accuracy:  0.330, Validation Accuracy:  0.409, Loss:  2.227\n",
      "Epoch   0 Batch   77/538 - Train Accuracy:  0.334, Validation Accuracy:  0.403, Loss:  2.163\n",
      "Epoch   0 Batch   78/538 - Train Accuracy:  0.359, Validation Accuracy:  0.396, Loss:  2.088\n",
      "Epoch   0 Batch   79/538 - Train Accuracy:  0.353, Validation Accuracy:  0.402, Loss:  2.020\n",
      "Epoch   0 Batch   80/538 - Train Accuracy:  0.328, Validation Accuracy:  0.403, Loss:  2.128\n",
      "Epoch   0 Batch   81/538 - Train Accuracy:  0.323, Validation Accuracy:  0.404, Loss:  2.110\n",
      "Epoch   0 Batch   82/538 - Train Accuracy:  0.339, Validation Accuracy:  0.406, Loss:  2.040\n",
      "Epoch   0 Batch   83/538 - Train Accuracy:  0.325, Validation Accuracy:  0.406, Loss:  2.066\n",
      "Epoch   0 Batch   84/538 - Train Accuracy:  0.360, Validation Accuracy:  0.404, Loss:  1.966\n",
      "Epoch   0 Batch   85/538 - Train Accuracy:  0.384, Validation Accuracy:  0.405, Loss:  1.877\n",
      "Epoch   0 Batch   86/538 - Train Accuracy:  0.335, Validation Accuracy:  0.405, Loss:  2.028\n",
      "Epoch   0 Batch   87/538 - Train Accuracy:  0.336, Validation Accuracy:  0.403, Loss:  1.961\n",
      "Epoch   0 Batch   88/538 - Train Accuracy:  0.338, Validation Accuracy:  0.403, Loss:  1.969\n",
      "Epoch   0 Batch   89/538 - Train Accuracy:  0.333, Validation Accuracy:  0.402, Loss:  1.942\n",
      "Epoch   0 Batch   90/538 - Train Accuracy:  0.360, Validation Accuracy:  0.401, Loss:  1.887\n",
      "Epoch   0 Batch   91/538 - Train Accuracy:  0.321, Validation Accuracy:  0.401, Loss:  1.945\n",
      "Epoch   0 Batch   92/538 - Train Accuracy:  0.342, Validation Accuracy:  0.401, Loss:  1.904\n",
      "Epoch   0 Batch   93/538 - Train Accuracy:  0.324, Validation Accuracy:  0.404, Loss:  1.887\n",
      "Epoch   0 Batch   94/538 - Train Accuracy:  0.330, Validation Accuracy:  0.409, Loss:  1.921\n",
      "Epoch   0 Batch   95/538 - Train Accuracy:  0.395, Validation Accuracy:  0.411, Loss:  1.701\n",
      "Epoch   0 Batch   96/538 - Train Accuracy:  0.379, Validation Accuracy:  0.413, Loss:  1.730\n",
      "Epoch   0 Batch   97/538 - Train Accuracy:  0.339, Validation Accuracy:  0.416, Loss:  1.813\n",
      "Epoch   0 Batch   98/538 - Train Accuracy:  0.390, Validation Accuracy:  0.415, Loss:  1.693\n",
      "Epoch   0 Batch   99/538 - Train Accuracy:  0.342, Validation Accuracy:  0.412, Loss:  1.820\n",
      "Epoch   0 Batch  100/538 - Train Accuracy:  0.333, Validation Accuracy:  0.407, Loss:  1.751\n",
      "Epoch   0 Batch  101/538 - Train Accuracy:  0.337, Validation Accuracy:  0.405, Loss:  1.744\n",
      "Epoch   0 Batch  102/538 - Train Accuracy:  0.330, Validation Accuracy:  0.407, Loss:  1.791\n",
      "Epoch   0 Batch  103/538 - Train Accuracy:  0.361, Validation Accuracy:  0.408, Loss:  1.695\n",
      "Epoch   0 Batch  104/538 - Train Accuracy:  0.367, Validation Accuracy:  0.407, Loss:  1.661\n",
      "Epoch   0 Batch  105/538 - Train Accuracy:  0.366, Validation Accuracy:  0.408, Loss:  1.614\n",
      "Epoch   0 Batch  106/538 - Train Accuracy:  0.337, Validation Accuracy:  0.409, Loss:  1.668\n",
      "Epoch   0 Batch  107/538 - Train Accuracy:  0.332, Validation Accuracy:  0.411, Loss:  1.695\n",
      "Epoch   0 Batch  108/538 - Train Accuracy:  0.355, Validation Accuracy:  0.411, Loss:  1.663\n",
      "Epoch   0 Batch  109/538 - Train Accuracy:  0.346, Validation Accuracy:  0.412, Loss:  1.631\n",
      "Epoch   0 Batch  110/538 - Train Accuracy:  0.336, Validation Accuracy:  0.407, Loss:  1.667\n",
      "Epoch   0 Batch  111/538 - Train Accuracy:  0.359, Validation Accuracy:  0.399, Loss:  1.543\n",
      "Epoch   0 Batch  112/538 - Train Accuracy:  0.332, Validation Accuracy:  0.398, Loss:  1.604\n",
      "Epoch   0 Batch  113/538 - Train Accuracy:  0.334, Validation Accuracy:  0.400, Loss:  1.616\n",
      "Epoch   0 Batch  114/538 - Train Accuracy:  0.373, Validation Accuracy:  0.403, Loss:  1.514\n",
      "Epoch   0 Batch  115/538 - Train Accuracy:  0.338, Validation Accuracy:  0.404, Loss:  1.551\n",
      "Epoch   0 Batch  116/538 - Train Accuracy:  0.374, Validation Accuracy:  0.405, Loss:  1.532\n",
      "Epoch   0 Batch  117/538 - Train Accuracy:  0.374, Validation Accuracy:  0.408, Loss:  1.478\n",
      "Epoch   0 Batch  118/538 - Train Accuracy:  0.371, Validation Accuracy:  0.407, Loss:  1.449\n",
      "Epoch   0 Batch  119/538 - Train Accuracy:  0.372, Validation Accuracy:  0.407, Loss:  1.423\n",
      "Epoch   0 Batch  120/538 - Train Accuracy:  0.341, Validation Accuracy:  0.407, Loss:  1.486\n",
      "Epoch   0 Batch  121/538 - Train Accuracy:  0.375, Validation Accuracy:  0.408, Loss:  1.387\n",
      "Epoch   0 Batch  122/538 - Train Accuracy:  0.367, Validation Accuracy:  0.409, Loss:  1.405\n",
      "Epoch   0 Batch  123/538 - Train Accuracy:  0.369, Validation Accuracy:  0.414, Loss:  1.378\n",
      "Epoch   0 Batch  124/538 - Train Accuracy:  0.405, Validation Accuracy:  0.416, Loss:  1.327\n",
      "Epoch   0 Batch  125/538 - Train Accuracy:  0.377, Validation Accuracy:  0.411, Loss:  1.388\n",
      "Epoch   0 Batch  126/538 - Train Accuracy:  0.397, Validation Accuracy:  0.408, Loss:  1.342\n",
      "Epoch   0 Batch  127/538 - Train Accuracy:  0.339, Validation Accuracy:  0.396, Loss:  1.445\n",
      "Epoch   0 Batch  128/538 - Train Accuracy:  0.369, Validation Accuracy:  0.400, Loss:  1.333\n",
      "Epoch   0 Batch  129/538 - Train Accuracy:  0.369, Validation Accuracy:  0.410, Loss:  1.327\n",
      "Epoch   0 Batch  130/538 - Train Accuracy:  0.362, Validation Accuracy:  0.404, Loss:  1.331\n",
      "Epoch   0 Batch  131/538 - Train Accuracy:  0.328, Validation Accuracy:  0.395, Loss:  1.367\n",
      "Epoch   0 Batch  132/538 - Train Accuracy:  0.364, Validation Accuracy:  0.393, Loss:  1.280\n",
      "Epoch   0 Batch  133/538 - Train Accuracy:  0.386, Validation Accuracy:  0.397, Loss:  1.240\n",
      "Epoch   0 Batch  134/538 - Train Accuracy:  0.326, Validation Accuracy:  0.405, Loss:  1.389\n",
      "Epoch   0 Batch  135/538 - Train Accuracy:  0.361, Validation Accuracy:  0.396, Loss:  1.301\n",
      "Epoch   0 Batch  136/538 - Train Accuracy:  0.351, Validation Accuracy:  0.394, Loss:  1.279\n",
      "Epoch   0 Batch  137/538 - Train Accuracy:  0.361, Validation Accuracy:  0.398, Loss:  1.281\n",
      "Epoch   0 Batch  138/538 - Train Accuracy:  0.365, Validation Accuracy:  0.406, Loss:  1.269\n",
      "Epoch   0 Batch  139/538 - Train Accuracy:  0.323, Validation Accuracy:  0.398, Loss:  1.349\n",
      "Epoch   0 Batch  140/538 - Train Accuracy:  0.329, Validation Accuracy:  0.389, Loss:  1.345\n",
      "Epoch   0 Batch  141/538 - Train Accuracy:  0.325, Validation Accuracy:  0.388, Loss:  1.328\n",
      "Epoch   0 Batch  142/538 - Train Accuracy:  0.369, Validation Accuracy:  0.395, Loss:  1.192\n",
      "Epoch   0 Batch  143/538 - Train Accuracy:  0.326, Validation Accuracy:  0.398, Loss:  1.280\n",
      "Epoch   0 Batch  144/538 - Train Accuracy:  0.337, Validation Accuracy:  0.392, Loss:  1.270\n",
      "Epoch   0 Batch  145/538 - Train Accuracy:  0.364, Validation Accuracy:  0.392, Loss:  1.238\n",
      "Epoch   0 Batch  146/538 - Train Accuracy:  0.382, Validation Accuracy:  0.392, Loss:  1.148\n",
      "Epoch   0 Batch  147/538 - Train Accuracy:  0.372, Validation Accuracy:  0.398, Loss:  1.194\n",
      "Epoch   0 Batch  148/538 - Train Accuracy:  0.335, Validation Accuracy:  0.402, Loss:  1.278\n",
      "Epoch   0 Batch  149/538 - Train Accuracy:  0.347, Validation Accuracy:  0.400, Loss:  1.208\n",
      "Epoch   0 Batch  150/538 - Train Accuracy:  0.335, Validation Accuracy:  0.398, Loss:  1.203\n",
      "Epoch   0 Batch  151/538 - Train Accuracy:  0.378, Validation Accuracy:  0.404, Loss:  1.153\n",
      "Epoch   0 Batch  152/538 - Train Accuracy:  0.376, Validation Accuracy:  0.408, Loss:  1.141\n",
      "Epoch   0 Batch  153/538 - Train Accuracy:  0.361, Validation Accuracy:  0.406, Loss:  1.184\n",
      "Epoch   0 Batch  154/538 - Train Accuracy:  0.371, Validation Accuracy:  0.406, Loss:  1.121\n",
      "Epoch   0 Batch  155/538 - Train Accuracy:  0.375, Validation Accuracy:  0.405, Loss:  1.129\n",
      "Epoch   0 Batch  156/538 - Train Accuracy:  0.337, Validation Accuracy:  0.398, Loss:  1.164\n",
      "Epoch   0 Batch  157/538 - Train Accuracy:  0.356, Validation Accuracy:  0.392, Loss:  1.108\n",
      "Epoch   0 Batch  158/538 - Train Accuracy:  0.319, Validation Accuracy:  0.390, Loss:  1.180\n",
      "Epoch   0 Batch  159/538 - Train Accuracy:  0.330, Validation Accuracy:  0.391, Loss:  1.163\n",
      "Epoch   0 Batch  160/538 - Train Accuracy:  0.353, Validation Accuracy:  0.391, Loss:  1.073\n",
      "Epoch   0 Batch  161/538 - Train Accuracy:  0.341, Validation Accuracy:  0.390, Loss:  1.120\n",
      "Epoch   0 Batch  162/538 - Train Accuracy:  0.371, Validation Accuracy:  0.390, Loss:  1.081\n",
      "Epoch   0 Batch  163/538 - Train Accuracy:  0.363, Validation Accuracy:  0.390, Loss:  1.112\n",
      "Epoch   0 Batch  164/538 - Train Accuracy:  0.332, Validation Accuracy:  0.391, Loss:  1.143\n",
      "Epoch   0 Batch  165/538 - Train Accuracy:  0.372, Validation Accuracy:  0.391, Loss:  1.026\n",
      "Epoch   0 Batch  166/538 - Train Accuracy:  0.330, Validation Accuracy:  0.387, Loss:  1.103\n",
      "Epoch   0 Batch  167/538 - Train Accuracy:  0.371, Validation Accuracy:  0.387, Loss:  1.031\n",
      "Epoch   0 Batch  168/538 - Train Accuracy:  0.331, Validation Accuracy:  0.390, Loss:  1.097\n",
      "Epoch   0 Batch  169/538 - Train Accuracy:  0.331, Validation Accuracy:  0.390, Loss:  1.070\n",
      "Epoch   0 Batch  170/538 - Train Accuracy:  0.350, Validation Accuracy:  0.386, Loss:  1.034\n",
      "Epoch   0 Batch  171/538 - Train Accuracy:  0.323, Validation Accuracy:  0.387, Loss:  1.084\n",
      "Epoch   0 Batch  172/538 - Train Accuracy:  0.351, Validation Accuracy:  0.386, Loss:  1.029\n",
      "Epoch   0 Batch  173/538 - Train Accuracy:  0.355, Validation Accuracy:  0.385, Loss:  1.020\n",
      "Epoch   0 Batch  174/538 - Train Accuracy:  0.321, Validation Accuracy:  0.386, Loss:  1.089\n",
      "Epoch   0 Batch  175/538 - Train Accuracy:  0.315, Validation Accuracy:  0.388, Loss:  1.094\n",
      "Epoch   0 Batch  176/538 - Train Accuracy:  0.331, Validation Accuracy:  0.391, Loss:  1.082\n",
      "Epoch   0 Batch  177/538 - Train Accuracy:  0.355, Validation Accuracy:  0.393, Loss:  1.032\n",
      "Epoch   0 Batch  178/538 - Train Accuracy:  0.365, Validation Accuracy:  0.391, Loss:  0.980\n",
      "Epoch   0 Batch  179/538 - Train Accuracy:  0.327, Validation Accuracy:  0.389, Loss:  1.032\n",
      "Epoch   0 Batch  180/538 - Train Accuracy:  0.365, Validation Accuracy:  0.391, Loss:  0.999\n",
      "Epoch   0 Batch  181/538 - Train Accuracy:  0.327, Validation Accuracy:  0.391, Loss:  1.058\n",
      "Epoch   0 Batch  182/538 - Train Accuracy:  0.331, Validation Accuracy:  0.387, Loss:  1.026\n",
      "Epoch   0 Batch  183/538 - Train Accuracy:  0.360, Validation Accuracy:  0.385, Loss:  0.965\n",
      "Epoch   0 Batch  184/538 - Train Accuracy:  0.354, Validation Accuracy:  0.387, Loss:  0.967\n",
      "Epoch   0 Batch  185/538 - Train Accuracy:  0.330, Validation Accuracy:  0.387, Loss:  0.983\n",
      "Epoch   0 Batch  186/538 - Train Accuracy:  0.346, Validation Accuracy:  0.382, Loss:  0.989\n",
      "Epoch   0 Batch  187/538 - Train Accuracy:  0.371, Validation Accuracy:  0.377, Loss:  0.938\n",
      "Epoch   0 Batch  188/538 - Train Accuracy:  0.314, Validation Accuracy:  0.375, Loss:  0.989\n",
      "Epoch   0 Batch  189/538 - Train Accuracy:  0.329, Validation Accuracy:  0.381, Loss:  1.000\n",
      "Epoch   0 Batch  190/538 - Train Accuracy:  0.356, Validation Accuracy:  0.380, Loss:  0.998\n",
      "Epoch   0 Batch  191/538 - Train Accuracy:  0.355, Validation Accuracy:  0.377, Loss:  0.949\n",
      "Epoch   0 Batch  192/538 - Train Accuracy:  0.351, Validation Accuracy:  0.377, Loss:  0.942\n",
      "Epoch   0 Batch  193/538 - Train Accuracy:  0.346, Validation Accuracy:  0.378, Loss:  0.929\n",
      "Epoch   0 Batch  194/538 - Train Accuracy:  0.321, Validation Accuracy:  0.380, Loss:  0.988\n",
      "Epoch   0 Batch  195/538 - Train Accuracy:  0.359, Validation Accuracy:  0.383, Loss:  0.932\n",
      "Epoch   0 Batch  196/538 - Train Accuracy:  0.350, Validation Accuracy:  0.380, Loss:  0.936\n",
      "Epoch   0 Batch  197/538 - Train Accuracy:  0.361, Validation Accuracy:  0.380, Loss:  0.920\n",
      "Epoch   0 Batch  198/538 - Train Accuracy:  0.363, Validation Accuracy:  0.386, Loss:  0.917\n",
      "Epoch   0 Batch  199/538 - Train Accuracy:  0.318, Validation Accuracy:  0.387, Loss:  0.970\n",
      "Epoch   0 Batch  200/538 - Train Accuracy:  0.322, Validation Accuracy:  0.384, Loss:  0.938\n",
      "Epoch   0 Batch  201/538 - Train Accuracy:  0.360, Validation Accuracy:  0.383, Loss:  0.906\n",
      "Epoch   0 Batch  202/538 - Train Accuracy:  0.301, Validation Accuracy:  0.390, Loss:  0.984\n",
      "Epoch   0 Batch  203/538 - Train Accuracy:  0.330, Validation Accuracy:  0.394, Loss:  0.968\n",
      "Epoch   0 Batch  204/538 - Train Accuracy:  0.328, Validation Accuracy:  0.389, Loss:  0.948\n",
      "Epoch   0 Batch  205/538 - Train Accuracy:  0.354, Validation Accuracy:  0.383, Loss:  0.891\n",
      "Epoch   0 Batch  206/538 - Train Accuracy:  0.329, Validation Accuracy:  0.388, Loss:  0.952\n",
      "Epoch   0 Batch  207/538 - Train Accuracy:  0.358, Validation Accuracy:  0.389, Loss:  0.886\n",
      "Epoch   0 Batch  208/538 - Train Accuracy:  0.333, Validation Accuracy:  0.388, Loss:  0.935\n",
      "Epoch   0 Batch  209/538 - Train Accuracy:  0.313, Validation Accuracy:  0.381, Loss:  0.929\n",
      "Epoch   0 Batch  210/538 - Train Accuracy:  0.353, Validation Accuracy:  0.381, Loss:  0.893\n",
      "Epoch   0 Batch  211/538 - Train Accuracy:  0.326, Validation Accuracy:  0.389, Loss:  0.944\n",
      "Epoch   0 Batch  212/538 - Train Accuracy:  0.362, Validation Accuracy:  0.392, Loss:  0.900\n",
      "Epoch   0 Batch  213/538 - Train Accuracy:  0.345, Validation Accuracy:  0.381, Loss:  0.901\n",
      "Epoch   0 Batch  214/538 - Train Accuracy:  0.312, Validation Accuracy:  0.379, Loss:  0.904\n",
      "Epoch   0 Batch  215/538 - Train Accuracy:  0.327, Validation Accuracy:  0.385, Loss:  0.913\n",
      "Epoch   0 Batch  216/538 - Train Accuracy:  0.319, Validation Accuracy:  0.393, Loss:  0.925\n",
      "Epoch   0 Batch  217/538 - Train Accuracy:  0.348, Validation Accuracy:  0.383, Loss:  0.871\n",
      "Epoch   0 Batch  218/538 - Train Accuracy:  0.313, Validation Accuracy:  0.377, Loss:  0.893\n",
      "Epoch   0 Batch  219/538 - Train Accuracy:  0.313, Validation Accuracy:  0.375, Loss:  0.934\n",
      "Epoch   0 Batch  220/538 - Train Accuracy:  0.353, Validation Accuracy:  0.380, Loss:  0.864\n",
      "Epoch   0 Batch  221/538 - Train Accuracy:  0.352, Validation Accuracy:  0.383, Loss:  0.856\n",
      "Epoch   0 Batch  222/538 - Train Accuracy:  0.363, Validation Accuracy:  0.384, Loss:  0.839\n",
      "Epoch   0 Batch  223/538 - Train Accuracy:  0.326, Validation Accuracy:  0.387, Loss:  0.914\n",
      "Epoch   0 Batch  224/538 - Train Accuracy:  0.332, Validation Accuracy:  0.393, Loss:  0.908\n",
      "Epoch   0 Batch  225/538 - Train Accuracy:  0.372, Validation Accuracy:  0.394, Loss:  0.849\n",
      "Epoch   0 Batch  226/538 - Train Accuracy:  0.354, Validation Accuracy:  0.389, Loss:  0.831\n",
      "Epoch   0 Batch  227/538 - Train Accuracy:  0.395, Validation Accuracy:  0.389, Loss:  0.822\n",
      "Epoch   0 Batch  228/538 - Train Accuracy:  0.359, Validation Accuracy:  0.392, Loss:  0.835\n",
      "Epoch   0 Batch  229/538 - Train Accuracy:  0.360, Validation Accuracy:  0.396, Loss:  0.851\n",
      "Epoch   0 Batch  230/538 - Train Accuracy:  0.333, Validation Accuracy:  0.389, Loss:  0.870\n",
      "Epoch   0 Batch  231/538 - Train Accuracy:  0.333, Validation Accuracy:  0.386, Loss:  0.861\n",
      "Epoch   0 Batch  232/538 - Train Accuracy:  0.321, Validation Accuracy:  0.389, Loss:  0.844\n",
      "Epoch   0 Batch  233/538 - Train Accuracy:  0.354, Validation Accuracy:  0.390, Loss:  0.848\n",
      "Epoch   0 Batch  234/538 - Train Accuracy:  0.334, Validation Accuracy:  0.391, Loss:  0.869\n",
      "Epoch   0 Batch  235/538 - Train Accuracy:  0.353, Validation Accuracy:  0.395, Loss:  0.819\n",
      "Epoch   0 Batch  236/538 - Train Accuracy:  0.334, Validation Accuracy:  0.396, Loss:  0.863\n",
      "Epoch   0 Batch  237/538 - Train Accuracy:  0.342, Validation Accuracy:  0.384, Loss:  0.820\n"
     ]
    }
   ],
   "source": [
    "\"\"\"\n",
    "DON'T MODIFY ANYTHING IN THIS CELL\n",
    "\"\"\"\n",
    "import time\n",
    "\n",
    "def get_accuracy(target, logits):\n",
    "    \"\"\"\n",
    "    Calculate accuracy\n",
    "    \"\"\"\n",
    "    max_seq = max(target.shape[1], logits.shape[1])\n",
    "    if max_seq - target.shape[1]:\n",
    "        target = np.pad(\n",
    "            target_batch,\n",
    "            [(0,0),(0,max_seq - target_batch.shape[1]), (0,0)],\n",
    "            'constant')\n",
    "    if max_seq - batch_train_logits.shape[1]:\n",
    "        logits = np.pad(\n",
    "            logits,\n",
    "            [(0,0),(0,max_seq - logits.shape[1]), (0,0)],\n",
    "            'constant')\n",
    "\n",
    "    return np.mean(np.equal(target, np.argmax(logits, 2)))\n",
    "\n",
    "train_source = source_int_text[batch_size:]\n",
    "train_target = target_int_text[batch_size:]\n",
    "\n",
    "valid_source = helper.pad_sentence_batch(source_int_text[:batch_size])\n",
    "valid_target = helper.pad_sentence_batch(target_int_text[:batch_size])\n",
    "\n",
    "with tf.Session(graph=train_graph) as sess:\n",
    "    sess.run(tf.global_variables_initializer())\n",
    "\n",
    "    for epoch_i in range(epochs):\n",
    "        for batch_i, (source_batch, target_batch) in enumerate(\n",
    "                helper.batch_data(train_source, train_target, batch_size)):\n",
    "            start_time = time.time()\n",
    "            \n",
    "            _, loss = sess.run(\n",
    "                [train_op, cost],\n",
    "                {input_data: source_batch,\n",
    "                 targets: target_batch,\n",
    "                 lr: learning_rate,\n",
    "                 sequence_length: target_batch.shape[1],\n",
    "                 keep_prob: keep_probability})\n",
    "            \n",
    "            batch_train_logits = sess.run(\n",
    "                inference_logits,\n",
    "                {input_data: source_batch, keep_prob: 1.0})\n",
    "            batch_valid_logits = sess.run(\n",
    "                inference_logits,\n",
    "                {input_data: valid_source, keep_prob: 1.0})\n",
    "                \n",
    "            train_acc = get_accuracy(target_batch, batch_train_logits)\n",
    "            valid_acc = get_accuracy(np.array(valid_target), batch_valid_logits)\n",
    "            end_time = time.time()\n",
    "            print('Epoch {:>3} Batch {:>4}/{} - Train Accuracy: {:>6.3f}, Validation Accuracy: {:>6.3f}, Loss: {:>6.3f}'\n",
    "                  .format(epoch_i, batch_i, len(source_int_text) // batch_size, train_acc, valid_acc, loss))\n",
    "\n",
    "    # Save Model\n",
    "    saver = tf.train.Saver()\n",
    "    saver.save(sess, save_path)\n",
    "    print('Model Trained and Saved')"
   ]
  },
  {
   "cell_type": "markdown",
   "metadata": {
    "deletable": true,
    "editable": true
   },
   "source": [
    "### Save Parameters\n",
    "Save the `batch_size` and `save_path` parameters for inference."
   ]
  },
  {
   "cell_type": "code",
   "execution_count": null,
   "metadata": {
    "collapsed": false,
    "deletable": true,
    "editable": true
   },
   "outputs": [],
   "source": [
    "\"\"\"\n",
    "DON'T MODIFY ANYTHING IN THIS CELL\n",
    "\"\"\"\n",
    "# Save parameters for checkpoint\n",
    "helper.save_params(save_path)"
   ]
  },
  {
   "cell_type": "markdown",
   "metadata": {
    "deletable": true,
    "editable": true
   },
   "source": [
    "# Checkpoint"
   ]
  },
  {
   "cell_type": "code",
   "execution_count": null,
   "metadata": {
    "collapsed": false,
    "deletable": true,
    "editable": true
   },
   "outputs": [],
   "source": [
    "\"\"\"\n",
    "DON'T MODIFY ANYTHING IN THIS CELL\n",
    "\"\"\"\n",
    "import tensorflow as tf\n",
    "import numpy as np\n",
    "import helper\n",
    "import problem_unittests as tests\n",
    "\n",
    "_, (source_vocab_to_int, target_vocab_to_int), (source_int_to_vocab, target_int_to_vocab) = helper.load_preprocess()\n",
    "load_path = helper.load_params()"
   ]
  },
  {
   "cell_type": "markdown",
   "metadata": {
    "deletable": true,
    "editable": true
   },
   "source": [
    "## Sentence to Sequence\n",
    "To feed a sentence into the model for translation, you first need to preprocess it.  Implement the function `sentence_to_seq()` to preprocess new sentences.\n",
    "\n",
    "- Convert the sentence to lowercase\n",
    "- Convert words into ids using `vocab_to_int`\n",
    " - Convert words not in the vocabulary, to the `<UNK>` word id."
   ]
  },
  {
   "cell_type": "code",
   "execution_count": null,
   "metadata": {
    "collapsed": false,
    "deletable": true,
    "editable": true
   },
   "outputs": [],
   "source": [
    "def sentence_to_seq(sentence, vocab_to_int):\n",
    "    \"\"\"\n",
    "    Convert a sentence to a sequence of ids\n",
    "    :param sentence: String\n",
    "    :param vocab_to_int: Dictionary to go from the words to an id\n",
    "    :return: List of word ids\n",
    "    \"\"\"\n",
    "    # TODO: Implement Function\n",
    "           \n",
    "    return [vocab_to_int[word] if word in vocab_to_int.keys() else vocab_to_int['<UNK>'] for word in sentence.lower().split()]\n",
    "\n",
    "\n",
    "\"\"\"\n",
    "DON'T MODIFY ANYTHING IN THIS CELL THAT IS BELOW THIS LINE\n",
    "\"\"\"\n",
    "tests.test_sentence_to_seq(sentence_to_seq)"
   ]
  },
  {
   "cell_type": "markdown",
   "metadata": {
    "deletable": true,
    "editable": true
   },
   "source": [
    "## Translate\n",
    "This will translate `translate_sentence` from English to French."
   ]
  },
  {
   "cell_type": "code",
   "execution_count": null,
   "metadata": {
    "collapsed": false,
    "deletable": true,
    "editable": true
   },
   "outputs": [],
   "source": [
    "translate_sentence = 'he saw a old yellow truck .'\n",
    "\n",
    "\n",
    "\"\"\"\n",
    "DON'T MODIFY ANYTHING IN THIS CELL\n",
    "\"\"\"\n",
    "translate_sentence = sentence_to_seq(translate_sentence, source_vocab_to_int)\n",
    "\n",
    "loaded_graph = tf.Graph()\n",
    "with tf.Session(graph=loaded_graph) as sess:\n",
    "    # Load saved model\n",
    "    loader = tf.train.import_meta_graph(load_path + '.meta')\n",
    "    loader.restore(sess, load_path)\n",
    "\n",
    "    input_data = loaded_graph.get_tensor_by_name('input:0')\n",
    "    logits = loaded_graph.get_tensor_by_name('logits:0')\n",
    "    keep_prob = loaded_graph.get_tensor_by_name('keep_prob:0')\n",
    "\n",
    "    translate_logits = sess.run(logits, {input_data: [translate_sentence], keep_prob: 1.0})[0]\n",
    "\n",
    "print('Input')\n",
    "print('  Word Ids:      {}'.format([i for i in translate_sentence]))\n",
    "print('  English Words: {}'.format([source_int_to_vocab[i] for i in translate_sentence]))\n",
    "\n",
    "print('\\nPrediction')\n",
    "print('  Word Ids:      {}'.format([i for i in np.argmax(translate_logits, 1)]))\n",
    "print('  French Words: {}'.format([target_int_to_vocab[i] for i in np.argmax(translate_logits, 1)]))"
   ]
  },
  {
   "cell_type": "markdown",
   "metadata": {
    "deletable": true,
    "editable": true
   },
   "source": [
    "## Imperfect Translation\n",
    "You might notice that some sentences translate better than others.  Since the dataset you're using only has a vocabulary of 227 English words of the thousands that you use, you're only going to see good results using these words.  For this project, you don't need a perfect translation. However, if you want to create a better translation model, you'll need better data.\n",
    "\n",
    "You can train on the [WMT10 French-English corpus](http://www.statmt.org/wmt10/training-giga-fren.tar).  This dataset has more vocabulary and richer in topics discussed.  However, this will take you days to train, so make sure you've a GPU and the neural network is performing well on dataset we provided.  Just make sure you play with the WMT10 corpus after you've submitted this project.\n",
    "## Submitting This Project\n",
    "When submitting this project, make sure to run all the cells before saving the notebook. Save the notebook file as \"dlnd_language_translation.ipynb\" and save it as a HTML file under \"File\" -> \"Download as\". Include the \"helper.py\" and \"problem_unittests.py\" files in your submission."
   ]
  }
 ],
 "metadata": {
  "anaconda-cloud": {},
  "kernelspec": {
   "display_name": "Python [default]",
   "language": "python",
   "name": "python3"
  },
  "language_info": {
   "codemirror_mode": {
    "name": "ipython",
    "version": 3
   },
   "file_extension": ".py",
   "mimetype": "text/x-python",
   "name": "python",
   "nbconvert_exporter": "python",
   "pygments_lexer": "ipython3",
   "version": "3.5.3"
  }
 },
 "nbformat": 4,
 "nbformat_minor": 0
}
